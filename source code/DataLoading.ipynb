{
  "nbformat": 4,
  "nbformat_minor": 0,
  "metadata": {
    "colab": {
      "provenance": []
    },
    "kernelspec": {
      "name": "python3",
      "display_name": "Python 3"
    },
    "language_info": {
      "name": "python"
    },
    "widgets": {
      "application/vnd.jupyter.widget-state+json": {
        "cb7bed2d69264994af2cb1b0eabb425b": {
          "model_module": "@jupyter-widgets/controls",
          "model_name": "HBoxModel",
          "model_module_version": "1.5.0",
          "state": {
            "_dom_classes": [],
            "_model_module": "@jupyter-widgets/controls",
            "_model_module_version": "1.5.0",
            "_model_name": "HBoxModel",
            "_view_count": null,
            "_view_module": "@jupyter-widgets/controls",
            "_view_module_version": "1.5.0",
            "_view_name": "HBoxView",
            "box_style": "",
            "children": [
              "IPY_MODEL_303988b9b6e84fa298fb343da72998a2",
              "IPY_MODEL_59d6f163b95a440eb4074113847b04b4",
              "IPY_MODEL_141acbbe5e964a91a353d30a894ec4a9"
            ],
            "layout": "IPY_MODEL_87fb65cbc4604e0fac90e7bae3736720"
          }
        },
        "303988b9b6e84fa298fb343da72998a2": {
          "model_module": "@jupyter-widgets/controls",
          "model_name": "HTMLModel",
          "model_module_version": "1.5.0",
          "state": {
            "_dom_classes": [],
            "_model_module": "@jupyter-widgets/controls",
            "_model_module_version": "1.5.0",
            "_model_name": "HTMLModel",
            "_view_count": null,
            "_view_module": "@jupyter-widgets/controls",
            "_view_module_version": "1.5.0",
            "_view_name": "HTMLView",
            "description": "",
            "description_tooltip": null,
            "layout": "IPY_MODEL_2ebb67250991498c9ddc2d2fdba18cac",
            "placeholder": "​",
            "style": "IPY_MODEL_08d75592f23f4abda69c8daa2c56f3bd",
            "value": "README.md: 100%"
          }
        },
        "59d6f163b95a440eb4074113847b04b4": {
          "model_module": "@jupyter-widgets/controls",
          "model_name": "FloatProgressModel",
          "model_module_version": "1.5.0",
          "state": {
            "_dom_classes": [],
            "_model_module": "@jupyter-widgets/controls",
            "_model_module_version": "1.5.0",
            "_model_name": "FloatProgressModel",
            "_view_count": null,
            "_view_module": "@jupyter-widgets/controls",
            "_view_module_version": "1.5.0",
            "_view_name": "ProgressView",
            "bar_style": "success",
            "description": "",
            "description_tooltip": null,
            "layout": "IPY_MODEL_4bddf988243f4c29bab676f56fb4a136",
            "max": 4678,
            "min": 0,
            "orientation": "horizontal",
            "style": "IPY_MODEL_b68144552c744a4d81b02fea6a8b4cb4",
            "value": 4678
          }
        },
        "141acbbe5e964a91a353d30a894ec4a9": {
          "model_module": "@jupyter-widgets/controls",
          "model_name": "HTMLModel",
          "model_module_version": "1.5.0",
          "state": {
            "_dom_classes": [],
            "_model_module": "@jupyter-widgets/controls",
            "_model_module_version": "1.5.0",
            "_model_name": "HTMLModel",
            "_view_count": null,
            "_view_module": "@jupyter-widgets/controls",
            "_view_module_version": "1.5.0",
            "_view_name": "HTMLView",
            "description": "",
            "description_tooltip": null,
            "layout": "IPY_MODEL_a569f863d78745718524231a0494d0be",
            "placeholder": "​",
            "style": "IPY_MODEL_61ed65236c6f4047a1e8057ab2ce58db",
            "value": " 4.68k/4.68k [00:00&lt;00:00, 98.4kB/s]"
          }
        },
        "87fb65cbc4604e0fac90e7bae3736720": {
          "model_module": "@jupyter-widgets/base",
          "model_name": "LayoutModel",
          "model_module_version": "1.2.0",
          "state": {
            "_model_module": "@jupyter-widgets/base",
            "_model_module_version": "1.2.0",
            "_model_name": "LayoutModel",
            "_view_count": null,
            "_view_module": "@jupyter-widgets/base",
            "_view_module_version": "1.2.0",
            "_view_name": "LayoutView",
            "align_content": null,
            "align_items": null,
            "align_self": null,
            "border": null,
            "bottom": null,
            "display": null,
            "flex": null,
            "flex_flow": null,
            "grid_area": null,
            "grid_auto_columns": null,
            "grid_auto_flow": null,
            "grid_auto_rows": null,
            "grid_column": null,
            "grid_gap": null,
            "grid_row": null,
            "grid_template_areas": null,
            "grid_template_columns": null,
            "grid_template_rows": null,
            "height": null,
            "justify_content": null,
            "justify_items": null,
            "left": null,
            "margin": null,
            "max_height": null,
            "max_width": null,
            "min_height": null,
            "min_width": null,
            "object_fit": null,
            "object_position": null,
            "order": null,
            "overflow": null,
            "overflow_x": null,
            "overflow_y": null,
            "padding": null,
            "right": null,
            "top": null,
            "visibility": null,
            "width": null
          }
        },
        "2ebb67250991498c9ddc2d2fdba18cac": {
          "model_module": "@jupyter-widgets/base",
          "model_name": "LayoutModel",
          "model_module_version": "1.2.0",
          "state": {
            "_model_module": "@jupyter-widgets/base",
            "_model_module_version": "1.2.0",
            "_model_name": "LayoutModel",
            "_view_count": null,
            "_view_module": "@jupyter-widgets/base",
            "_view_module_version": "1.2.0",
            "_view_name": "LayoutView",
            "align_content": null,
            "align_items": null,
            "align_self": null,
            "border": null,
            "bottom": null,
            "display": null,
            "flex": null,
            "flex_flow": null,
            "grid_area": null,
            "grid_auto_columns": null,
            "grid_auto_flow": null,
            "grid_auto_rows": null,
            "grid_column": null,
            "grid_gap": null,
            "grid_row": null,
            "grid_template_areas": null,
            "grid_template_columns": null,
            "grid_template_rows": null,
            "height": null,
            "justify_content": null,
            "justify_items": null,
            "left": null,
            "margin": null,
            "max_height": null,
            "max_width": null,
            "min_height": null,
            "min_width": null,
            "object_fit": null,
            "object_position": null,
            "order": null,
            "overflow": null,
            "overflow_x": null,
            "overflow_y": null,
            "padding": null,
            "right": null,
            "top": null,
            "visibility": null,
            "width": null
          }
        },
        "08d75592f23f4abda69c8daa2c56f3bd": {
          "model_module": "@jupyter-widgets/controls",
          "model_name": "DescriptionStyleModel",
          "model_module_version": "1.5.0",
          "state": {
            "_model_module": "@jupyter-widgets/controls",
            "_model_module_version": "1.5.0",
            "_model_name": "DescriptionStyleModel",
            "_view_count": null,
            "_view_module": "@jupyter-widgets/base",
            "_view_module_version": "1.2.0",
            "_view_name": "StyleView",
            "description_width": ""
          }
        },
        "4bddf988243f4c29bab676f56fb4a136": {
          "model_module": "@jupyter-widgets/base",
          "model_name": "LayoutModel",
          "model_module_version": "1.2.0",
          "state": {
            "_model_module": "@jupyter-widgets/base",
            "_model_module_version": "1.2.0",
            "_model_name": "LayoutModel",
            "_view_count": null,
            "_view_module": "@jupyter-widgets/base",
            "_view_module_version": "1.2.0",
            "_view_name": "LayoutView",
            "align_content": null,
            "align_items": null,
            "align_self": null,
            "border": null,
            "bottom": null,
            "display": null,
            "flex": null,
            "flex_flow": null,
            "grid_area": null,
            "grid_auto_columns": null,
            "grid_auto_flow": null,
            "grid_auto_rows": null,
            "grid_column": null,
            "grid_gap": null,
            "grid_row": null,
            "grid_template_areas": null,
            "grid_template_columns": null,
            "grid_template_rows": null,
            "height": null,
            "justify_content": null,
            "justify_items": null,
            "left": null,
            "margin": null,
            "max_height": null,
            "max_width": null,
            "min_height": null,
            "min_width": null,
            "object_fit": null,
            "object_position": null,
            "order": null,
            "overflow": null,
            "overflow_x": null,
            "overflow_y": null,
            "padding": null,
            "right": null,
            "top": null,
            "visibility": null,
            "width": null
          }
        },
        "b68144552c744a4d81b02fea6a8b4cb4": {
          "model_module": "@jupyter-widgets/controls",
          "model_name": "ProgressStyleModel",
          "model_module_version": "1.5.0",
          "state": {
            "_model_module": "@jupyter-widgets/controls",
            "_model_module_version": "1.5.0",
            "_model_name": "ProgressStyleModel",
            "_view_count": null,
            "_view_module": "@jupyter-widgets/base",
            "_view_module_version": "1.2.0",
            "_view_name": "StyleView",
            "bar_color": null,
            "description_width": ""
          }
        },
        "a569f863d78745718524231a0494d0be": {
          "model_module": "@jupyter-widgets/base",
          "model_name": "LayoutModel",
          "model_module_version": "1.2.0",
          "state": {
            "_model_module": "@jupyter-widgets/base",
            "_model_module_version": "1.2.0",
            "_model_name": "LayoutModel",
            "_view_count": null,
            "_view_module": "@jupyter-widgets/base",
            "_view_module_version": "1.2.0",
            "_view_name": "LayoutView",
            "align_content": null,
            "align_items": null,
            "align_self": null,
            "border": null,
            "bottom": null,
            "display": null,
            "flex": null,
            "flex_flow": null,
            "grid_area": null,
            "grid_auto_columns": null,
            "grid_auto_flow": null,
            "grid_auto_rows": null,
            "grid_column": null,
            "grid_gap": null,
            "grid_row": null,
            "grid_template_areas": null,
            "grid_template_columns": null,
            "grid_template_rows": null,
            "height": null,
            "justify_content": null,
            "justify_items": null,
            "left": null,
            "margin": null,
            "max_height": null,
            "max_width": null,
            "min_height": null,
            "min_width": null,
            "object_fit": null,
            "object_position": null,
            "order": null,
            "overflow": null,
            "overflow_x": null,
            "overflow_y": null,
            "padding": null,
            "right": null,
            "top": null,
            "visibility": null,
            "width": null
          }
        },
        "61ed65236c6f4047a1e8057ab2ce58db": {
          "model_module": "@jupyter-widgets/controls",
          "model_name": "DescriptionStyleModel",
          "model_module_version": "1.5.0",
          "state": {
            "_model_module": "@jupyter-widgets/controls",
            "_model_module_version": "1.5.0",
            "_model_name": "DescriptionStyleModel",
            "_view_count": null,
            "_view_module": "@jupyter-widgets/base",
            "_view_module_version": "1.2.0",
            "_view_name": "StyleView",
            "description_width": ""
          }
        },
        "775dd113b4ba4cdebb685bfd7f39f29f": {
          "model_module": "@jupyter-widgets/controls",
          "model_name": "HBoxModel",
          "model_module_version": "1.5.0",
          "state": {
            "_dom_classes": [],
            "_model_module": "@jupyter-widgets/controls",
            "_model_module_version": "1.5.0",
            "_model_name": "HBoxModel",
            "_view_count": null,
            "_view_module": "@jupyter-widgets/controls",
            "_view_module_version": "1.5.0",
            "_view_name": "HBoxView",
            "box_style": "",
            "children": [
              "IPY_MODEL_6fcb68b1e26b47ffab1a53e4192038c4",
              "IPY_MODEL_2f209907288f4ac7a4c6bc4f4d0e53e4",
              "IPY_MODEL_819565e2c2964fcb8b3dc7ab6c87f2b7"
            ],
            "layout": "IPY_MODEL_c8942f52d6234bc297ee745442427270"
          }
        },
        "6fcb68b1e26b47ffab1a53e4192038c4": {
          "model_module": "@jupyter-widgets/controls",
          "model_name": "HTMLModel",
          "model_module_version": "1.5.0",
          "state": {
            "_dom_classes": [],
            "_model_module": "@jupyter-widgets/controls",
            "_model_module_version": "1.5.0",
            "_model_name": "HTMLModel",
            "_view_count": null,
            "_view_module": "@jupyter-widgets/controls",
            "_view_module_version": "1.5.0",
            "_view_name": "HTMLView",
            "description": "",
            "description_tooltip": null,
            "layout": "IPY_MODEL_95786a188fe046669c7805a0c550dd5c",
            "placeholder": "​",
            "style": "IPY_MODEL_a4b722a8efd54395be68e48502dc690b",
            "value": "dataset.csv: 100%"
          }
        },
        "2f209907288f4ac7a4c6bc4f4d0e53e4": {
          "model_module": "@jupyter-widgets/controls",
          "model_name": "FloatProgressModel",
          "model_module_version": "1.5.0",
          "state": {
            "_dom_classes": [],
            "_model_module": "@jupyter-widgets/controls",
            "_model_module_version": "1.5.0",
            "_model_name": "FloatProgressModel",
            "_view_count": null,
            "_view_module": "@jupyter-widgets/controls",
            "_view_module_version": "1.5.0",
            "_view_name": "ProgressView",
            "bar_style": "success",
            "description": "",
            "description_tooltip": null,
            "layout": "IPY_MODEL_f8b4bde0bee04eed89b75a6b75d43824",
            "max": 20118244,
            "min": 0,
            "orientation": "horizontal",
            "style": "IPY_MODEL_78b23146bf6b4a9d9b6818960cb80f2a",
            "value": 20118244
          }
        },
        "819565e2c2964fcb8b3dc7ab6c87f2b7": {
          "model_module": "@jupyter-widgets/controls",
          "model_name": "HTMLModel",
          "model_module_version": "1.5.0",
          "state": {
            "_dom_classes": [],
            "_model_module": "@jupyter-widgets/controls",
            "_model_module_version": "1.5.0",
            "_model_name": "HTMLModel",
            "_view_count": null,
            "_view_module": "@jupyter-widgets/controls",
            "_view_module_version": "1.5.0",
            "_view_name": "HTMLView",
            "description": "",
            "description_tooltip": null,
            "layout": "IPY_MODEL_1d97b4f4d1a64d398c20823e1c495ddf",
            "placeholder": "​",
            "style": "IPY_MODEL_141d4712699f4ac1a10d660aac811a80",
            "value": " 20.1M/20.1M [00:00&lt;00:00, 37.3MB/s]"
          }
        },
        "c8942f52d6234bc297ee745442427270": {
          "model_module": "@jupyter-widgets/base",
          "model_name": "LayoutModel",
          "model_module_version": "1.2.0",
          "state": {
            "_model_module": "@jupyter-widgets/base",
            "_model_module_version": "1.2.0",
            "_model_name": "LayoutModel",
            "_view_count": null,
            "_view_module": "@jupyter-widgets/base",
            "_view_module_version": "1.2.0",
            "_view_name": "LayoutView",
            "align_content": null,
            "align_items": null,
            "align_self": null,
            "border": null,
            "bottom": null,
            "display": null,
            "flex": null,
            "flex_flow": null,
            "grid_area": null,
            "grid_auto_columns": null,
            "grid_auto_flow": null,
            "grid_auto_rows": null,
            "grid_column": null,
            "grid_gap": null,
            "grid_row": null,
            "grid_template_areas": null,
            "grid_template_columns": null,
            "grid_template_rows": null,
            "height": null,
            "justify_content": null,
            "justify_items": null,
            "left": null,
            "margin": null,
            "max_height": null,
            "max_width": null,
            "min_height": null,
            "min_width": null,
            "object_fit": null,
            "object_position": null,
            "order": null,
            "overflow": null,
            "overflow_x": null,
            "overflow_y": null,
            "padding": null,
            "right": null,
            "top": null,
            "visibility": null,
            "width": null
          }
        },
        "95786a188fe046669c7805a0c550dd5c": {
          "model_module": "@jupyter-widgets/base",
          "model_name": "LayoutModel",
          "model_module_version": "1.2.0",
          "state": {
            "_model_module": "@jupyter-widgets/base",
            "_model_module_version": "1.2.0",
            "_model_name": "LayoutModel",
            "_view_count": null,
            "_view_module": "@jupyter-widgets/base",
            "_view_module_version": "1.2.0",
            "_view_name": "LayoutView",
            "align_content": null,
            "align_items": null,
            "align_self": null,
            "border": null,
            "bottom": null,
            "display": null,
            "flex": null,
            "flex_flow": null,
            "grid_area": null,
            "grid_auto_columns": null,
            "grid_auto_flow": null,
            "grid_auto_rows": null,
            "grid_column": null,
            "grid_gap": null,
            "grid_row": null,
            "grid_template_areas": null,
            "grid_template_columns": null,
            "grid_template_rows": null,
            "height": null,
            "justify_content": null,
            "justify_items": null,
            "left": null,
            "margin": null,
            "max_height": null,
            "max_width": null,
            "min_height": null,
            "min_width": null,
            "object_fit": null,
            "object_position": null,
            "order": null,
            "overflow": null,
            "overflow_x": null,
            "overflow_y": null,
            "padding": null,
            "right": null,
            "top": null,
            "visibility": null,
            "width": null
          }
        },
        "a4b722a8efd54395be68e48502dc690b": {
          "model_module": "@jupyter-widgets/controls",
          "model_name": "DescriptionStyleModel",
          "model_module_version": "1.5.0",
          "state": {
            "_model_module": "@jupyter-widgets/controls",
            "_model_module_version": "1.5.0",
            "_model_name": "DescriptionStyleModel",
            "_view_count": null,
            "_view_module": "@jupyter-widgets/base",
            "_view_module_version": "1.2.0",
            "_view_name": "StyleView",
            "description_width": ""
          }
        },
        "f8b4bde0bee04eed89b75a6b75d43824": {
          "model_module": "@jupyter-widgets/base",
          "model_name": "LayoutModel",
          "model_module_version": "1.2.0",
          "state": {
            "_model_module": "@jupyter-widgets/base",
            "_model_module_version": "1.2.0",
            "_model_name": "LayoutModel",
            "_view_count": null,
            "_view_module": "@jupyter-widgets/base",
            "_view_module_version": "1.2.0",
            "_view_name": "LayoutView",
            "align_content": null,
            "align_items": null,
            "align_self": null,
            "border": null,
            "bottom": null,
            "display": null,
            "flex": null,
            "flex_flow": null,
            "grid_area": null,
            "grid_auto_columns": null,
            "grid_auto_flow": null,
            "grid_auto_rows": null,
            "grid_column": null,
            "grid_gap": null,
            "grid_row": null,
            "grid_template_areas": null,
            "grid_template_columns": null,
            "grid_template_rows": null,
            "height": null,
            "justify_content": null,
            "justify_items": null,
            "left": null,
            "margin": null,
            "max_height": null,
            "max_width": null,
            "min_height": null,
            "min_width": null,
            "object_fit": null,
            "object_position": null,
            "order": null,
            "overflow": null,
            "overflow_x": null,
            "overflow_y": null,
            "padding": null,
            "right": null,
            "top": null,
            "visibility": null,
            "width": null
          }
        },
        "78b23146bf6b4a9d9b6818960cb80f2a": {
          "model_module": "@jupyter-widgets/controls",
          "model_name": "ProgressStyleModel",
          "model_module_version": "1.5.0",
          "state": {
            "_model_module": "@jupyter-widgets/controls",
            "_model_module_version": "1.5.0",
            "_model_name": "ProgressStyleModel",
            "_view_count": null,
            "_view_module": "@jupyter-widgets/base",
            "_view_module_version": "1.2.0",
            "_view_name": "StyleView",
            "bar_color": null,
            "description_width": ""
          }
        },
        "1d97b4f4d1a64d398c20823e1c495ddf": {
          "model_module": "@jupyter-widgets/base",
          "model_name": "LayoutModel",
          "model_module_version": "1.2.0",
          "state": {
            "_model_module": "@jupyter-widgets/base",
            "_model_module_version": "1.2.0",
            "_model_name": "LayoutModel",
            "_view_count": null,
            "_view_module": "@jupyter-widgets/base",
            "_view_module_version": "1.2.0",
            "_view_name": "LayoutView",
            "align_content": null,
            "align_items": null,
            "align_self": null,
            "border": null,
            "bottom": null,
            "display": null,
            "flex": null,
            "flex_flow": null,
            "grid_area": null,
            "grid_auto_columns": null,
            "grid_auto_flow": null,
            "grid_auto_rows": null,
            "grid_column": null,
            "grid_gap": null,
            "grid_row": null,
            "grid_template_areas": null,
            "grid_template_columns": null,
            "grid_template_rows": null,
            "height": null,
            "justify_content": null,
            "justify_items": null,
            "left": null,
            "margin": null,
            "max_height": null,
            "max_width": null,
            "min_height": null,
            "min_width": null,
            "object_fit": null,
            "object_position": null,
            "order": null,
            "overflow": null,
            "overflow_x": null,
            "overflow_y": null,
            "padding": null,
            "right": null,
            "top": null,
            "visibility": null,
            "width": null
          }
        },
        "141d4712699f4ac1a10d660aac811a80": {
          "model_module": "@jupyter-widgets/controls",
          "model_name": "DescriptionStyleModel",
          "model_module_version": "1.5.0",
          "state": {
            "_model_module": "@jupyter-widgets/controls",
            "_model_module_version": "1.5.0",
            "_model_name": "DescriptionStyleModel",
            "_view_count": null,
            "_view_module": "@jupyter-widgets/base",
            "_view_module_version": "1.2.0",
            "_view_name": "StyleView",
            "description_width": ""
          }
        },
        "6796b055f99c4ea49fc583aa579e6e09": {
          "model_module": "@jupyter-widgets/controls",
          "model_name": "HBoxModel",
          "model_module_version": "1.5.0",
          "state": {
            "_dom_classes": [],
            "_model_module": "@jupyter-widgets/controls",
            "_model_module_version": "1.5.0",
            "_model_name": "HBoxModel",
            "_view_count": null,
            "_view_module": "@jupyter-widgets/controls",
            "_view_module_version": "1.5.0",
            "_view_name": "HBoxView",
            "box_style": "",
            "children": [
              "IPY_MODEL_6543cec70c4741cc8af375eeb907e26e",
              "IPY_MODEL_bf8f1e7ff96b494eaf0ff363ce07cf09",
              "IPY_MODEL_1f17921a67b04ad5a52060a35be886f8"
            ],
            "layout": "IPY_MODEL_7aebff0fa87046d58cdd9c6056667a42"
          }
        },
        "6543cec70c4741cc8af375eeb907e26e": {
          "model_module": "@jupyter-widgets/controls",
          "model_name": "HTMLModel",
          "model_module_version": "1.5.0",
          "state": {
            "_dom_classes": [],
            "_model_module": "@jupyter-widgets/controls",
            "_model_module_version": "1.5.0",
            "_model_name": "HTMLModel",
            "_view_count": null,
            "_view_module": "@jupyter-widgets/controls",
            "_view_module_version": "1.5.0",
            "_view_name": "HTMLView",
            "description": "",
            "description_tooltip": null,
            "layout": "IPY_MODEL_99dec8314fc4413289a291b71e6741ab",
            "placeholder": "​",
            "style": "IPY_MODEL_e6985c88e0d244cd8c2f57d5d59df3ec",
            "value": "Generating train split: 100%"
          }
        },
        "bf8f1e7ff96b494eaf0ff363ce07cf09": {
          "model_module": "@jupyter-widgets/controls",
          "model_name": "FloatProgressModel",
          "model_module_version": "1.5.0",
          "state": {
            "_dom_classes": [],
            "_model_module": "@jupyter-widgets/controls",
            "_model_module_version": "1.5.0",
            "_model_name": "FloatProgressModel",
            "_view_count": null,
            "_view_module": "@jupyter-widgets/controls",
            "_view_module_version": "1.5.0",
            "_view_name": "ProgressView",
            "bar_style": "success",
            "description": "",
            "description_tooltip": null,
            "layout": "IPY_MODEL_4dcc31e21a904c3fb595d6a552db52a4",
            "max": 114000,
            "min": 0,
            "orientation": "horizontal",
            "style": "IPY_MODEL_363a5309bf8e4f628df8cf8875b3b128",
            "value": 114000
          }
        },
        "1f17921a67b04ad5a52060a35be886f8": {
          "model_module": "@jupyter-widgets/controls",
          "model_name": "HTMLModel",
          "model_module_version": "1.5.0",
          "state": {
            "_dom_classes": [],
            "_model_module": "@jupyter-widgets/controls",
            "_model_module_version": "1.5.0",
            "_model_name": "HTMLModel",
            "_view_count": null,
            "_view_module": "@jupyter-widgets/controls",
            "_view_module_version": "1.5.0",
            "_view_name": "HTMLView",
            "description": "",
            "description_tooltip": null,
            "layout": "IPY_MODEL_4dae4e33ff334c8892c6e98898962558",
            "placeholder": "​",
            "style": "IPY_MODEL_6a9be64c3b1745b8ab662fa481e57a10",
            "value": " 114000/114000 [00:00&lt;00:00, 145310.78 examples/s]"
          }
        },
        "7aebff0fa87046d58cdd9c6056667a42": {
          "model_module": "@jupyter-widgets/base",
          "model_name": "LayoutModel",
          "model_module_version": "1.2.0",
          "state": {
            "_model_module": "@jupyter-widgets/base",
            "_model_module_version": "1.2.0",
            "_model_name": "LayoutModel",
            "_view_count": null,
            "_view_module": "@jupyter-widgets/base",
            "_view_module_version": "1.2.0",
            "_view_name": "LayoutView",
            "align_content": null,
            "align_items": null,
            "align_self": null,
            "border": null,
            "bottom": null,
            "display": null,
            "flex": null,
            "flex_flow": null,
            "grid_area": null,
            "grid_auto_columns": null,
            "grid_auto_flow": null,
            "grid_auto_rows": null,
            "grid_column": null,
            "grid_gap": null,
            "grid_row": null,
            "grid_template_areas": null,
            "grid_template_columns": null,
            "grid_template_rows": null,
            "height": null,
            "justify_content": null,
            "justify_items": null,
            "left": null,
            "margin": null,
            "max_height": null,
            "max_width": null,
            "min_height": null,
            "min_width": null,
            "object_fit": null,
            "object_position": null,
            "order": null,
            "overflow": null,
            "overflow_x": null,
            "overflow_y": null,
            "padding": null,
            "right": null,
            "top": null,
            "visibility": null,
            "width": null
          }
        },
        "99dec8314fc4413289a291b71e6741ab": {
          "model_module": "@jupyter-widgets/base",
          "model_name": "LayoutModel",
          "model_module_version": "1.2.0",
          "state": {
            "_model_module": "@jupyter-widgets/base",
            "_model_module_version": "1.2.0",
            "_model_name": "LayoutModel",
            "_view_count": null,
            "_view_module": "@jupyter-widgets/base",
            "_view_module_version": "1.2.0",
            "_view_name": "LayoutView",
            "align_content": null,
            "align_items": null,
            "align_self": null,
            "border": null,
            "bottom": null,
            "display": null,
            "flex": null,
            "flex_flow": null,
            "grid_area": null,
            "grid_auto_columns": null,
            "grid_auto_flow": null,
            "grid_auto_rows": null,
            "grid_column": null,
            "grid_gap": null,
            "grid_row": null,
            "grid_template_areas": null,
            "grid_template_columns": null,
            "grid_template_rows": null,
            "height": null,
            "justify_content": null,
            "justify_items": null,
            "left": null,
            "margin": null,
            "max_height": null,
            "max_width": null,
            "min_height": null,
            "min_width": null,
            "object_fit": null,
            "object_position": null,
            "order": null,
            "overflow": null,
            "overflow_x": null,
            "overflow_y": null,
            "padding": null,
            "right": null,
            "top": null,
            "visibility": null,
            "width": null
          }
        },
        "e6985c88e0d244cd8c2f57d5d59df3ec": {
          "model_module": "@jupyter-widgets/controls",
          "model_name": "DescriptionStyleModel",
          "model_module_version": "1.5.0",
          "state": {
            "_model_module": "@jupyter-widgets/controls",
            "_model_module_version": "1.5.0",
            "_model_name": "DescriptionStyleModel",
            "_view_count": null,
            "_view_module": "@jupyter-widgets/base",
            "_view_module_version": "1.2.0",
            "_view_name": "StyleView",
            "description_width": ""
          }
        },
        "4dcc31e21a904c3fb595d6a552db52a4": {
          "model_module": "@jupyter-widgets/base",
          "model_name": "LayoutModel",
          "model_module_version": "1.2.0",
          "state": {
            "_model_module": "@jupyter-widgets/base",
            "_model_module_version": "1.2.0",
            "_model_name": "LayoutModel",
            "_view_count": null,
            "_view_module": "@jupyter-widgets/base",
            "_view_module_version": "1.2.0",
            "_view_name": "LayoutView",
            "align_content": null,
            "align_items": null,
            "align_self": null,
            "border": null,
            "bottom": null,
            "display": null,
            "flex": null,
            "flex_flow": null,
            "grid_area": null,
            "grid_auto_columns": null,
            "grid_auto_flow": null,
            "grid_auto_rows": null,
            "grid_column": null,
            "grid_gap": null,
            "grid_row": null,
            "grid_template_areas": null,
            "grid_template_columns": null,
            "grid_template_rows": null,
            "height": null,
            "justify_content": null,
            "justify_items": null,
            "left": null,
            "margin": null,
            "max_height": null,
            "max_width": null,
            "min_height": null,
            "min_width": null,
            "object_fit": null,
            "object_position": null,
            "order": null,
            "overflow": null,
            "overflow_x": null,
            "overflow_y": null,
            "padding": null,
            "right": null,
            "top": null,
            "visibility": null,
            "width": null
          }
        },
        "363a5309bf8e4f628df8cf8875b3b128": {
          "model_module": "@jupyter-widgets/controls",
          "model_name": "ProgressStyleModel",
          "model_module_version": "1.5.0",
          "state": {
            "_model_module": "@jupyter-widgets/controls",
            "_model_module_version": "1.5.0",
            "_model_name": "ProgressStyleModel",
            "_view_count": null,
            "_view_module": "@jupyter-widgets/base",
            "_view_module_version": "1.2.0",
            "_view_name": "StyleView",
            "bar_color": null,
            "description_width": ""
          }
        },
        "4dae4e33ff334c8892c6e98898962558": {
          "model_module": "@jupyter-widgets/base",
          "model_name": "LayoutModel",
          "model_module_version": "1.2.0",
          "state": {
            "_model_module": "@jupyter-widgets/base",
            "_model_module_version": "1.2.0",
            "_model_name": "LayoutModel",
            "_view_count": null,
            "_view_module": "@jupyter-widgets/base",
            "_view_module_version": "1.2.0",
            "_view_name": "LayoutView",
            "align_content": null,
            "align_items": null,
            "align_self": null,
            "border": null,
            "bottom": null,
            "display": null,
            "flex": null,
            "flex_flow": null,
            "grid_area": null,
            "grid_auto_columns": null,
            "grid_auto_flow": null,
            "grid_auto_rows": null,
            "grid_column": null,
            "grid_gap": null,
            "grid_row": null,
            "grid_template_areas": null,
            "grid_template_columns": null,
            "grid_template_rows": null,
            "height": null,
            "justify_content": null,
            "justify_items": null,
            "left": null,
            "margin": null,
            "max_height": null,
            "max_width": null,
            "min_height": null,
            "min_width": null,
            "object_fit": null,
            "object_position": null,
            "order": null,
            "overflow": null,
            "overflow_x": null,
            "overflow_y": null,
            "padding": null,
            "right": null,
            "top": null,
            "visibility": null,
            "width": null
          }
        },
        "6a9be64c3b1745b8ab662fa481e57a10": {
          "model_module": "@jupyter-widgets/controls",
          "model_name": "DescriptionStyleModel",
          "model_module_version": "1.5.0",
          "state": {
            "_model_module": "@jupyter-widgets/controls",
            "_model_module_version": "1.5.0",
            "_model_name": "DescriptionStyleModel",
            "_view_count": null,
            "_view_module": "@jupyter-widgets/base",
            "_view_module_version": "1.2.0",
            "_view_name": "StyleView",
            "description_width": ""
          }
        }
      }
    }
  },
  "cells": [
    {
      "cell_type": "markdown",
      "source": [
        "# Title: **Recomendation System - Movies, Music & Books**"
      ],
      "metadata": {
        "id": "ZnFFsYHbq3Ne"
      }
    },
    {
      "cell_type": "markdown",
      "source": [
        "## Milestone 1 Report: Session-Based Recommendation System\n",
        "\n",
        "The objective of this project is to build a **session-based recommendation system** that suggests movies, music, and books to users based on their interactions with the interface and preferences. This project will use 3 datasets from Hugging Face. There will be an interactive user-interface of website will be developed for this application.\n",
        "\n",
        "### **Technology Stack**\n",
        "\n",
        "-  **Frontend**: React, CSS\n",
        "\n",
        "-  **Backend**: Flask\n",
        "\n",
        "-  **Machine Learning Frameworks**: PyTorch, transformers\n",
        "\n",
        "-  **Databases**: PostgreSQL / MongoDB (TBD based on requirements)\n",
        "\n",
        "-  **APIs & Libraries**: Hugging Face Transformers, Pandas, NumPy, Matplotlib, Seaborn\n",
        "\n",
        "### **Datasets(Hugging Face)**\n",
        "\n",
        "-  **Movies**: [IMDb Dataset](https://huggingface.co/datasets/ExecuteAutomation/ImdbMovieDataSet)\n",
        "\n",
        "-  **Music**: [Spotify Tracklist Dataset](https://huggingface.co/datasets/maharshipandya/spotify-tracks-dataset?library=datasets)\n",
        "\n",
        "-  **Books**: [GoodReads Dataset](https://huggingface.co/datasets/Eitanli/goodreads?library=datasets)\n",
        "\n",
        "\n",
        "## **Project Timeline**\n",
        "![image.png](data:image/png;base64,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)"
      ],
      "metadata": {
        "id": "wJJ0p1e4qrzj"
      }
    },
    {
      "cell_type": "markdown",
      "source": [
        "## Data Loading"
      ],
      "metadata": {
        "id": "7K9InGbdrFq6"
      }
    },
    {
      "cell_type": "code",
      "execution_count": 15,
      "metadata": {
        "id": "iMsqkHuoXP6u"
      },
      "outputs": [],
      "source": [
        "#!pip install datasets"
      ]
    },
    {
      "cell_type": "code",
      "source": [
        "from datasets import load_dataset"
      ],
      "metadata": {
        "id": "nAKTqojLYBZr"
      },
      "execution_count": 3,
      "outputs": []
    },
    {
      "cell_type": "code",
      "source": [
        "movies_data = load_dataset(\"ExecuteAutomation/ImdbMovieDataSet\")"
      ],
      "metadata": {
        "id": "e6kLSeZFYUtF"
      },
      "execution_count": 9,
      "outputs": []
    },
    {
      "cell_type": "code",
      "source": [
        "print(movies_data['train'])"
      ],
      "metadata": {
        "colab": {
          "base_uri": "https://localhost:8080/",
          "height": 0
        },
        "id": "hkdQnjGNYa6Y",
        "outputId": "29902feb-7ad2-4e61-8ca9-b33f9fa63e1f"
      },
      "execution_count": 10,
      "outputs": [
        {
          "output_type": "stream",
          "name": "stdout",
          "text": [
            "Dataset({\n",
            "    features: ['names', 'date_x', 'score', 'genre', 'overview', 'crew', 'orig_title', 'status', 'orig_lang', 'budget_x', 'revenue', 'country'],\n",
            "    num_rows: 10178\n",
            "})\n"
          ]
        }
      ]
    },
    {
      "cell_type": "code",
      "source": [
        "music_data = load_dataset(\"maharshipandya/spotify-tracks-dataset\")"
      ],
      "metadata": {
        "id": "vgYYyJ3LZOCf",
        "colab": {
          "base_uri": "https://localhost:8080/",
          "height": 113,
          "referenced_widgets": [
            "cb7bed2d69264994af2cb1b0eabb425b",
            "303988b9b6e84fa298fb343da72998a2",
            "59d6f163b95a440eb4074113847b04b4",
            "141acbbe5e964a91a353d30a894ec4a9",
            "87fb65cbc4604e0fac90e7bae3736720",
            "2ebb67250991498c9ddc2d2fdba18cac",
            "08d75592f23f4abda69c8daa2c56f3bd",
            "4bddf988243f4c29bab676f56fb4a136",
            "b68144552c744a4d81b02fea6a8b4cb4",
            "a569f863d78745718524231a0494d0be",
            "61ed65236c6f4047a1e8057ab2ce58db",
            "775dd113b4ba4cdebb685bfd7f39f29f",
            "6fcb68b1e26b47ffab1a53e4192038c4",
            "2f209907288f4ac7a4c6bc4f4d0e53e4",
            "819565e2c2964fcb8b3dc7ab6c87f2b7",
            "c8942f52d6234bc297ee745442427270",
            "95786a188fe046669c7805a0c550dd5c",
            "a4b722a8efd54395be68e48502dc690b",
            "f8b4bde0bee04eed89b75a6b75d43824",
            "78b23146bf6b4a9d9b6818960cb80f2a",
            "1d97b4f4d1a64d398c20823e1c495ddf",
            "141d4712699f4ac1a10d660aac811a80",
            "6796b055f99c4ea49fc583aa579e6e09",
            "6543cec70c4741cc8af375eeb907e26e",
            "bf8f1e7ff96b494eaf0ff363ce07cf09",
            "1f17921a67b04ad5a52060a35be886f8",
            "7aebff0fa87046d58cdd9c6056667a42",
            "99dec8314fc4413289a291b71e6741ab",
            "e6985c88e0d244cd8c2f57d5d59df3ec",
            "4dcc31e21a904c3fb595d6a552db52a4",
            "363a5309bf8e4f628df8cf8875b3b128",
            "4dae4e33ff334c8892c6e98898962558",
            "6a9be64c3b1745b8ab662fa481e57a10"
          ]
        },
        "outputId": "a200dd2a-da11-44c1-9a10-9863a4acf86d"
      },
      "execution_count": 11,
      "outputs": [
        {
          "output_type": "display_data",
          "data": {
            "text/plain": [
              "README.md:   0%|          | 0.00/4.68k [00:00<?, ?B/s]"
            ],
            "application/vnd.jupyter.widget-view+json": {
              "version_major": 2,
              "version_minor": 0,
              "model_id": "cb7bed2d69264994af2cb1b0eabb425b"
            }
          },
          "metadata": {}
        },
        {
          "output_type": "display_data",
          "data": {
            "text/plain": [
              "dataset.csv:   0%|          | 0.00/20.1M [00:00<?, ?B/s]"
            ],
            "application/vnd.jupyter.widget-view+json": {
              "version_major": 2,
              "version_minor": 0,
              "model_id": "775dd113b4ba4cdebb685bfd7f39f29f"
            }
          },
          "metadata": {}
        },
        {
          "output_type": "display_data",
          "data": {
            "text/plain": [
              "Generating train split:   0%|          | 0/114000 [00:00<?, ? examples/s]"
            ],
            "application/vnd.jupyter.widget-view+json": {
              "version_major": 2,
              "version_minor": 0,
              "model_id": "6796b055f99c4ea49fc583aa579e6e09"
            }
          },
          "metadata": {}
        }
      ]
    },
    {
      "cell_type": "code",
      "source": [
        "print(music_data['train'])"
      ],
      "metadata": {
        "colab": {
          "base_uri": "https://localhost:8080/",
          "height": 0
        },
        "id": "p-WTNIe_oW0W",
        "outputId": "164572af-4ae9-41ae-830c-ecd3143515b8"
      },
      "execution_count": 13,
      "outputs": [
        {
          "output_type": "stream",
          "name": "stdout",
          "text": [
            "Dataset({\n",
            "    features: ['Unnamed: 0', 'track_id', 'artists', 'album_name', 'track_name', 'popularity', 'duration_ms', 'explicit', 'danceability', 'energy', 'key', 'loudness', 'mode', 'speechiness', 'acousticness', 'instrumentalness', 'liveness', 'valence', 'tempo', 'time_signature', 'track_genre'],\n",
            "    num_rows: 114000\n",
            "})\n"
          ]
        }
      ]
    },
    {
      "cell_type": "code",
      "source": [
        "books_data = load_dataset(\"Eitanli/goodreads\")"
      ],
      "metadata": {
        "colab": {
          "base_uri": "https://localhost:8080/",
          "height": 0
        },
        "id": "Xtmbea4vodzs",
        "outputId": "61bd6b41-dc1f-4c34-c9a4-972c7fba0f24"
      },
      "execution_count": 20,
      "outputs": [
        {
          "output_type": "stream",
          "name": "stderr",
          "text": [
            "Repo card metadata block was not found. Setting CardData to empty.\n",
            "WARNING:huggingface_hub.repocard:Repo card metadata block was not found. Setting CardData to empty.\n"
          ]
        }
      ]
    },
    {
      "cell_type": "code",
      "source": [
        "print(books_data[\"train\"])"
      ],
      "metadata": {
        "colab": {
          "base_uri": "https://localhost:8080/",
          "height": 0
        },
        "id": "C8NNZJGquPlv",
        "outputId": "c770c545-a078-4d8a-ed95-93eac459050c"
      },
      "execution_count": 21,
      "outputs": [
        {
          "output_type": "stream",
          "name": "stdout",
          "text": [
            "Dataset({\n",
            "    features: ['Unnamed: 0', 'Book', 'Author', 'Description', 'Genres', 'Avg_Rating', 'Num_Ratings', 'URL'],\n",
            "    num_rows: 10000\n",
            "})\n"
          ]
        }
      ]
    },
    {
      "cell_type": "code",
      "source": [
        "import matplotlib.pyplot as plt\n",
        "import pandas as pd\n",
        "import numpy as np\n",
        "\n",
        "# Data\n",
        "data = {\n",
        "    'Task': [\n",
        "        'Data Collection', 'Data Preprocessing', 'Exploratory Data Analysis (EDA)',\n",
        "        'Model Selection & Training', 'Model Evaluation & Tuning',\n",
        "        'Integration with Backend', 'Frontend Development', 'Deployment'\n",
        "    ],\n",
        "    'Start Date': [\n",
        "        'Feb 10, 2025', 'Feb 16, 2025', 'Feb 18, 2025',\n",
        "        'Feb 23, 2025', 'Mar 01, 2025', 'Mar 12, 2025',\n",
        "        'Mar 23, 2025', 'Apr 02, 2025'\n",
        "    ],\n",
        "    'End Date': [\n",
        "        'Feb 15, 2025', 'Feb 18, 2025', 'Feb 20, 2025',\n",
        "        'Feb 28, 2025', 'Mar 10, 2025', 'Mar 20, 2025',\n",
        "        'Mar 30, 2025', 'Apr 12, 2025'\n",
        "    ]\n",
        "}\n",
        "\n",
        "df = pd.DataFrame(data)\n",
        "\n",
        "# Plotting the table\n",
        "fig, ax = plt.subplots(figsize=(10, 6))\n",
        "ax.axis('off')\n",
        "table = ax.table(cellText=df.values, colLabels=df.columns, cellLoc='center', loc='center')\n",
        "\n",
        "# Save as image\n",
        "image_path = \"/content/images/project_schedule.png\"\n",
        "plt.savefig(image_path, bbox_inches=\"tight\", dpi=300)\n",
        "plt.close()\n",
        "\n",
        "image_path\n"
      ],
      "metadata": {
        "colab": {
          "base_uri": "https://localhost:8080/",
          "height": 35
        },
        "id": "mhLdR9AawQSn",
        "outputId": "a2a15abe-647b-44c4-91b3-25454c7783cb"
      },
      "execution_count": 24,
      "outputs": [
        {
          "output_type": "execute_result",
          "data": {
            "text/plain": [
              "'/content/images/project_schedule.png'"
            ],
            "application/vnd.google.colaboratory.intrinsic+json": {
              "type": "string"
            }
          },
          "metadata": {},
          "execution_count": 24
        }
      ]
    }
  ]
}
{
 "cells": [
  {
   "cell_type": "code",
   "execution_count": 15,
   "id": "14ed097c-1107-45dd-b25c-4b1761ef1067",
   "metadata": {},
   "outputs": [],
   "source": [
    "#!pip install datasets torch "
   ]
  },
  {
   "cell_type": "code",
   "execution_count": 6,
   "id": "532d903d-7314-4b4d-9edd-072079f6c91b",
   "metadata": {},
   "outputs": [],
   "source": [
    "import warnings\n",
    "warnings.filterwarnings(\"ignore\")"
   ]
  },
  {
   "cell_type": "code",
   "execution_count": 7,
   "id": "0760698e-0f28-4262-9515-21169fc9fb9b",
   "metadata": {},
   "outputs": [],
   "source": [
    "import numpy as np\n",
    "import pandas as pd\n",
    "import matplotlib.pyplot as plt\n",
    "import seaborn as sns\n",
    "from datasets import load_dataset"
   ]
  },
  {
   "cell_type": "code",
   "execution_count": 8,
   "id": "92df3aee-f6d6-405d-8574-334422b61f78",
   "metadata": {},
   "outputs": [
    {
     "name": "stderr",
     "output_type": "stream",
     "text": [
      "Repo card metadata block was not found. Setting CardData to empty.\n"
     ]
    }
   ],
   "source": [
    "movies = load_dataset(\"ExecuteAutomation/ImdbMovieDataSet\")\n",
    "music = load_dataset(\"maharshipandya/spotify-tracks-dataset\")\n",
    "books = load_dataset(\"Eitanli/goodreads\")"
   ]
  },
  {
   "cell_type": "code",
   "execution_count": 9,
   "id": "b274dda1-70d5-47b5-9dfa-82002c0bab8c",
   "metadata": {},
   "outputs": [],
   "source": [
    "movies_df = movies['train'].to_pandas()\n",
    "music_df = music['train'].to_pandas()\n",
    "books_df = books['train'].to_pandas()"
   ]
  },
  {
   "cell_type": "code",
   "execution_count": 10,
   "id": "d16bb941-b116-4ad6-ae67-248d334c1945",
   "metadata": {},
   "outputs": [
    {
     "name": "stdout",
     "output_type": "stream",
     "text": [
      "Index(['names', 'date_x', 'score', 'genre', 'overview', 'crew', 'orig_title',\n",
      "       'status', 'orig_lang', 'budget_x', 'revenue', 'country'],\n",
      "      dtype='object')\n",
      "Index(['Unnamed: 0', 'track_id', 'artists', 'album_name', 'track_name',\n",
      "       'popularity', 'duration_ms', 'explicit', 'danceability', 'energy',\n",
      "       'key', 'loudness', 'mode', 'speechiness', 'acousticness',\n",
      "       'instrumentalness', 'liveness', 'valence', 'tempo', 'time_signature',\n",
      "       'track_genre'],\n",
      "      dtype='object')\n",
      "Index(['Unnamed: 0', 'Book', 'Author', 'Description', 'Genres', 'Avg_Rating',\n",
      "       'Num_Ratings', 'URL'],\n",
      "      dtype='object')\n"
     ]
    }
   ],
   "source": [
    "print(movies_df.columns)\n",
    "print(music_df.columns)\n",
    "print(books_df.columns)"
   ]
  },
  {
   "cell_type": "code",
   "execution_count": 11,
   "id": "e62feff6-a507-4409-ae59-6e5727cd4f59",
   "metadata": {},
   "outputs": [
    {
     "name": "stdout",
     "output_type": "stream",
     "text": [
      "                             Item_ID                        Title  \\\n",
      "0                    Movie_Creed III                    Creed III   \n",
      "1     Movie_Avatar: The Way of Water     Avatar: The Way of Water   \n",
      "2  Movie_The Super Mario Bros. Movie  The Super Mario Bros. Movie   \n",
      "3                      Movie_Mummies                       Momias   \n",
      "4                    Movie_Supercell                    Supercell   \n",
      "\n",
      "                                           Genre  \\\n",
      "0                                  Drama, Action   \n",
      "1             Science Fiction, Adventure, Action   \n",
      "2  Animation, Adventure, Family, Fantasy, Comedy   \n",
      "3  Animation, Comedy, Family, Adventure, Fantasy   \n",
      "4                                         Action   \n",
      "\n",
      "                                         Description  Popularity  \\\n",
      "0  After dominating the boxing world, Adonis Cree...        73.0   \n",
      "1  Set more than a decade after the events of the...        78.0   \n",
      "2  While working underground to fix a water main,...        76.0   \n",
      "3  Through a series of unfortunate events, three ...        70.0   \n",
      "4  Good-hearted teenager William always lived in ...        61.0   \n",
      "\n",
      "                                             Creator  Timestamp Item_Type  \n",
      "0  Michael B. Jordan, Adonis Creed, Tessa Thompso... 2023-03-02     Movie  \n",
      "1  Sam Worthington, Jake Sully, Zoe Saldaña, Neyt... 2022-12-15     Movie  \n",
      "2  Chris Pratt, Mario (voice), Anya Taylor-Joy, P... 2023-04-05     Movie  \n",
      "3  Óscar Barberán, Thut (voice), Ana Esther Albor... 2023-01-05     Movie  \n",
      "4  Skeet Ulrich, Roy Cameron, Anne Heche, Dr Quin... 2023-03-17     Movie  \n"
     ]
    }
   ],
   "source": [
    "# Assign unique Item_IDs\n",
    "movies_df[\"Item_ID\"] = \"Movie_\" + movies_df[\"names\"].astype(str)\n",
    "music_df[\"Item_ID\"] = \"Music_\" + music_df[\"track_id\"].astype(str)\n",
    "books_df[\"Item_ID\"] = \"Book_\" + books_df[\"Book\"].astype(str)\n",
    "\n",
    "# Standardizing Columns\n",
    "movies_df = movies_df[[\"Item_ID\", \"orig_title\", \"genre\", \"overview\", \"score\", \"crew\", \"date_x\"]]\n",
    "music_df = music_df[[\"Item_ID\", \"track_name\", \"track_genre\", \"popularity\", \"artists\"]]\n",
    "books_df = books_df[[\"Item_ID\", \"Book\", \"Genres\", \"Description\", \"Avg_Rating\", \"Author\"]]\n",
    "\n",
    "# Rename for consistency\n",
    "movies_df.rename(columns={\"orig_title\": \"Title\", \"genre\": \"Genre\", \"overview\": \"Description\", \"score\": \"Popularity\", \"crew\": \"Creator\", \"date_x\": \"Timestamp\"}, inplace=True)\n",
    "music_df.rename(columns={\"track_name\": \"Title\", \"track_genre\": \"Genre\", \"popularity\": \"Popularity\", \"artists\": \"Creator\"}, inplace=True)\n",
    "books_df.rename(columns={\"Book\": \"Title\", \"Genres\": \"Genre\", \"Description\": \"Description\", \"Avg_Rating\": \"Popularity\", \"Author\": \"Creator\"}, inplace=True)\n",
    "\n",
    "# Add Item_Type\n",
    "movies_df[\"Item_Type\"] = \"Movie\"\n",
    "music_df[\"Item_Type\"] = \"Music\"\n",
    "books_df[\"Item_Type\"] = \"Book\"\n",
    "\n",
    "# Handle missing timestamps (generate random timestamps)\n",
    "movies_df[\"Timestamp\"] = pd.to_datetime(movies_df[\"Timestamp\"], errors=\"coerce\")\n",
    "music_df[\"Timestamp\"] = pd.to_datetime(\"2024-03-17\")  # Static timestamp\n",
    "books_df[\"Timestamp\"] = pd.to_datetime(\"2024-03-17\")  # Static timestamp\n",
    "\n",
    "# Combine datasets\n",
    "merged_df = pd.concat([movies_df, music_df, books_df], ignore_index=True)\n",
    "\n",
    "# Save preprocessed dataset\n",
    "merged_df.to_csv(\"session_data.csv\", index=False)\n",
    "\n",
    "print(merged_df.head())\n"
   ]
  },
  {
   "cell_type": "code",
   "execution_count": 12,
   "id": "c8227284-83fb-4cb5-bee5-23449522e1d7",
   "metadata": {},
   "outputs": [],
   "source": [
    "# Simulating user sessions\n",
    "session_ids = np.random.randint(1000, 5000, size=len(merged_df))\n",
    "action_types = np.random.choice([\"Clicked\", \"Searched\", \"Scrolled\"], size=len(merged_df))\n",
    "\n",
    "merged_df[\"Session_ID\"] = session_ids\n",
    "merged_df[\"Action_Type\"] = action_types\n",
    "\n",
    "# Save session-based data\n",
    "merged_df.to_csv(\"session_events.csv\", index=False)"
   ]
  },
  {
   "cell_type": "code",
   "execution_count": null,
   "id": "c1b80706-ceaa-4e12-afb4-807791e3cd2f",
   "metadata": {},
   "outputs": [],
   "source": [
    "import torch\n",
    "import torch.nn as nn\n",
    "import torch.optim as optim\n",
    "from torch.utils.data import Dataset, DataLoader\n",
    "\n",
    "# Load session data\n",
    "data = pd.read_csv(\"session_events.csv\")\n",
    "\n",
    "# Convert Item_IDs into unique numerical values\n",
    "item_vocab = {item: idx for idx, item in enumerate(set(data[\"Item_ID\"]))}\n",
    "inv_vocab = {idx: item for item, idx in item_vocab.items()}\n",
    "\n",
    "# Convert sessions into numerical sequences\n",
    "sessions = data.groupby(\"Session_ID\")[\"Item_ID\"].apply(lambda x: [item_vocab[i] for i in x]).tolist()\n",
    "\n",
    "# Dataset Class\n",
    "from torch.nn.utils.rnn import pad_sequence\n",
    "\n",
    "class SessionDataset(Dataset):\n",
    "    def __init__(self, sessions, max_length=50):\n",
    "        self.sessions = sessions\n",
    "        self.max_length = max_length\n",
    "\n",
    "    def __len__(self):\n",
    "        return len(self.sessions)\n",
    "\n",
    "    def __getitem__(self, idx):\n",
    "        session = self.sessions[idx]\n",
    "        session_tensor = torch.tensor(session, dtype=torch.long)\n",
    "\n",
    "        # Pad sequences to the max length\n",
    "        if len(session_tensor) < self.max_length:\n",
    "            pad_size = self.max_length - len(session_tensor)\n",
    "            session_tensor = torch.cat([session_tensor, torch.zeros(pad_size, dtype=torch.long)])\n",
    "\n",
    "        return session_tensor[:-1], session_tensor[1:]  # Input & Target\n",
    "\n",
    "# Collate function to pad sequences dynamically in the DataLoader\n",
    "def collate_fn(batch):\n",
    "    inputs, targets = zip(*batch)\n",
    "    inputs_padded = pad_sequence([torch.tensor(seq) for seq in inputs], batch_first=True, padding_value=0)\n",
    "    targets_padded = pad_sequence([torch.tensor(seq) for seq in targets], batch_first=True, padding_value=0)\n",
    "    return inputs_padded, targets_padded\n",
    "\n",
    "\n",
    "# Define GRU Model\n",
    "class GRU4Rec(nn.Module):\n",
    "    def __init__(self, vocab_size, embed_dim=128, hidden_dim=256):\n",
    "        super(GRU4Rec, self).__init__()\n",
    "        self.embedding = nn.Embedding(vocab_size, embed_dim)\n",
    "        self.gru = nn.GRU(embed_dim, hidden_dim, batch_first=True)\n",
    "        self.fc = nn.Linear(hidden_dim, vocab_size)\n",
    "\n",
    "    def forward(self, x):\n",
    "        x = self.embedding(x)\n",
    "        out, _ = self.gru(x)\n",
    "        return self.fc(out)\n",
    "\n",
    "# Training Model\n",
    "dataset = SessionDataset(sessions)\n",
    "dataloader = DataLoader(dataset, batch_size=64, shuffle=True, collate_fn=collate_fn)\n",
    "\n",
    "model = GRU4Rec(len(item_vocab))\n",
    "criterion = nn.CrossEntropyLoss()\n",
    "optimizer = optim.Adam(model.parameters(), lr=0.001)\n",
    "\n",
    "for epoch in range(5):\n",
    "    for batch in dataloader:\n",
    "        inputs, targets = batch\n",
    "        optimizer.zero_grad()\n",
    "        outputs = model(inputs)\n",
    "        loss = criterion(outputs.view(-1, len(item_vocab)), targets.view(-1))\n",
    "        loss.backward()\n",
    "        optimizer.step()\n",
    "    print(f\"Epoch {epoch+1}, Loss: {loss.item()}\")\n",
    "\n",
    "torch.save(model.state_dict(), \"session_rec_model.pth\")\n"
   ]
  }
 ],
 "metadata": {
  "kernelspec": {
   "display_name": "Python 3 (ipykernel)",
   "language": "python",
   "name": "python3"
  },
  "language_info": {
   "codemirror_mode": {
    "name": "ipython",
    "version": 3
   },
   "file_extension": ".py",
   "mimetype": "text/x-python",
   "name": "python",
   "nbconvert_exporter": "python",
   "pygments_lexer": "ipython3",
   "version": "3.12.7"
  }
 },
 "nbformat": 4,
 "nbformat_minor": 5
}
